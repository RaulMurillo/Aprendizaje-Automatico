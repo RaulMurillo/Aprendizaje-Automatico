{
 "cells": [
  {
   "cell_type": "markdown",
   "metadata": {},
   "source": [
    "# Proyecto final: Breast Cancer Wisconsin (Original)\n",
    "\n",
    "---\n",
    "### Autores: Grupo 7\n",
    "Raúl Murillo Montero - 5º Doble Grado en Ingeniería Informática - Matemáticas   \n",
    "Miguel Sierra Esteso - 4º Grado en Ingeniería Informática\n"
   ]
  },
  {
   "cell_type": "code",
   "execution_count": 1,
   "metadata": {},
   "outputs": [],
   "source": [
    "# %matplotlib notebook\n",
    "import numpy as np\n",
    "import matplotlib.pyplot as plt\n",
    "import pandas as pd\n",
    "\n",
    "from sklearn.preprocessing import LabelEncoder, StandardScaler\n",
    "import sklearn.model_selection as ms\n",
    "import scipy.optimize as opt\n",
    "from sklearn.metrics import confusion_matrix\n",
    "from sklearn.linear_model import LinearRegression, LogisticRegression\n",
    "from sklearn.neural_network import MLPClassifier\n",
    "from sklearn.svm import SVC\n",
    "from sklearn.cluster import KMeans\n",
    "import time"
   ]
  },
  {
   "cell_type": "markdown",
   "metadata": {},
   "source": [
    "## Phase 1 - Data Exploration"
   ]
  },
  {
   "cell_type": "code",
   "execution_count": 2,
   "metadata": {},
   "outputs": [
    {
     "name": "stdout",
     "output_type": "stream",
     "text": [
      "(699, 11)\n"
     ]
    },
    {
     "data": {
      "text/html": [
       "<div>\n",
       "<style scoped>\n",
       "    .dataframe tbody tr th:only-of-type {\n",
       "        vertical-align: middle;\n",
       "    }\n",
       "\n",
       "    .dataframe tbody tr th {\n",
       "        vertical-align: top;\n",
       "    }\n",
       "\n",
       "    .dataframe thead th {\n",
       "        text-align: right;\n",
       "    }\n",
       "</style>\n",
       "<table border=\"1\" class=\"dataframe\">\n",
       "  <thead>\n",
       "    <tr style=\"text-align: right;\">\n",
       "      <th></th>\n",
       "      <th>id</th>\n",
       "      <th>clump_thickness</th>\n",
       "      <th>size_uniformity</th>\n",
       "      <th>shape_uniformity</th>\n",
       "      <th>marginal_adhesion</th>\n",
       "      <th>epithelial_size</th>\n",
       "      <th>bare_nuclei</th>\n",
       "      <th>bland_chromatin</th>\n",
       "      <th>normal_nucleoli</th>\n",
       "      <th>mitoses</th>\n",
       "      <th>class</th>\n",
       "    </tr>\n",
       "  </thead>\n",
       "  <tbody>\n",
       "    <tr>\n",
       "      <th>0</th>\n",
       "      <td>1000025</td>\n",
       "      <td>5</td>\n",
       "      <td>1</td>\n",
       "      <td>1</td>\n",
       "      <td>1</td>\n",
       "      <td>2</td>\n",
       "      <td>1</td>\n",
       "      <td>3</td>\n",
       "      <td>1</td>\n",
       "      <td>1</td>\n",
       "      <td>2</td>\n",
       "    </tr>\n",
       "    <tr>\n",
       "      <th>1</th>\n",
       "      <td>1002945</td>\n",
       "      <td>5</td>\n",
       "      <td>4</td>\n",
       "      <td>4</td>\n",
       "      <td>5</td>\n",
       "      <td>7</td>\n",
       "      <td>10</td>\n",
       "      <td>3</td>\n",
       "      <td>2</td>\n",
       "      <td>1</td>\n",
       "      <td>2</td>\n",
       "    </tr>\n",
       "    <tr>\n",
       "      <th>2</th>\n",
       "      <td>1015425</td>\n",
       "      <td>3</td>\n",
       "      <td>1</td>\n",
       "      <td>1</td>\n",
       "      <td>1</td>\n",
       "      <td>2</td>\n",
       "      <td>2</td>\n",
       "      <td>3</td>\n",
       "      <td>1</td>\n",
       "      <td>1</td>\n",
       "      <td>2</td>\n",
       "    </tr>\n",
       "    <tr>\n",
       "      <th>3</th>\n",
       "      <td>1016277</td>\n",
       "      <td>6</td>\n",
       "      <td>8</td>\n",
       "      <td>8</td>\n",
       "      <td>1</td>\n",
       "      <td>3</td>\n",
       "      <td>4</td>\n",
       "      <td>3</td>\n",
       "      <td>7</td>\n",
       "      <td>1</td>\n",
       "      <td>2</td>\n",
       "    </tr>\n",
       "    <tr>\n",
       "      <th>4</th>\n",
       "      <td>1017023</td>\n",
       "      <td>4</td>\n",
       "      <td>1</td>\n",
       "      <td>1</td>\n",
       "      <td>3</td>\n",
       "      <td>2</td>\n",
       "      <td>1</td>\n",
       "      <td>3</td>\n",
       "      <td>1</td>\n",
       "      <td>1</td>\n",
       "      <td>2</td>\n",
       "    </tr>\n",
       "  </tbody>\n",
       "</table>\n",
       "</div>"
      ],
      "text/plain": [
       "        id  clump_thickness  size_uniformity  shape_uniformity  \\\n",
       "0  1000025                5                1                 1   \n",
       "1  1002945                5                4                 4   \n",
       "2  1015425                3                1                 1   \n",
       "3  1016277                6                8                 8   \n",
       "4  1017023                4                1                 1   \n",
       "\n",
       "   marginal_adhesion  epithelial_size bare_nuclei  bland_chromatin  \\\n",
       "0                  1                2           1                3   \n",
       "1                  5                7          10                3   \n",
       "2                  1                2           2                3   \n",
       "3                  1                3           4                3   \n",
       "4                  3                2           1                3   \n",
       "\n",
       "   normal_nucleoli  mitoses  class  \n",
       "0                1        1      2  \n",
       "1                2        1      2  \n",
       "2                1        1      2  \n",
       "3                7        1      2  \n",
       "4                1        1      2  "
      ]
     },
     "metadata": {},
     "output_type": "display_data"
    }
   ],
   "source": [
    "# importing our cancer dataset\n",
    "dataset = pd.read_csv(\"breast-cancer-wisconsin.csv\")\n",
    "print(dataset.shape)\n",
    "display(dataset.head())"
   ]
  },
  {
   "cell_type": "markdown",
   "metadata": {},
   "source": [
    "### Missing or Null Data points"
   ]
  },
  {
   "cell_type": "code",
   "execution_count": 3,
   "metadata": {
    "scrolled": false
   },
   "outputs": [
    {
     "name": "stdout",
     "output_type": "stream",
     "text": [
      "id                    0\n",
      "clump_thickness       0\n",
      "size_uniformity       0\n",
      "shape_uniformity      0\n",
      "marginal_adhesion     0\n",
      "epithelial_size       0\n",
      "bare_nuclei          16\n",
      "bland_chromatin       0\n",
      "normal_nucleoli       0\n",
      "mitoses               0\n",
      "class                 0\n",
      "dtype: int64\n"
     ]
    }
   ],
   "source": [
    "print(dataset.isin([\"?\"]).sum())"
   ]
  },
  {
   "cell_type": "code",
   "execution_count": 4,
   "metadata": {},
   "outputs": [
    {
     "name": "stdout",
     "output_type": "stream",
     "text": [
      "(683, 11)\n"
     ]
    }
   ],
   "source": [
    "# Removing examples with missing data\n",
    "\n",
    "missing = np.where(dataset[\"bare_nuclei\"] == \"?\")[0]\n",
    "dataset.drop(index=missing, inplace=True)\n",
    "# Set numeric values to the feature\n",
    "dataset[\"bare_nuclei\"] = pd.to_numeric(dataset[\"bare_nuclei\"])\n",
    "print(dataset.shape)"
   ]
  },
  {
   "cell_type": "markdown",
   "metadata": {},
   "source": [
    "### Data visualization"
   ]
  },
  {
   "cell_type": "code",
   "execution_count": 5,
   "metadata": {
    "scrolled": true
   },
   "outputs": [
    {
     "data": {
      "image/png": "[encoded data removed]",
      "text/plain": [
       "<Figure size 432x288 with 1 Axes>"
      ]
     },
     "metadata": {
      "needs_background": "light"
     },
     "output_type": "display_data"
    }
   ],
   "source": [
    "# Plot classes\n",
    "labelencoder_Y = LabelEncoder()\n",
    "dataset[\"class\"] = labelencoder_Y.fit_transform(dataset[\"class\"])\n",
    "Y = dataset[\"class\"].values\n",
    "plt.figure()\n",
    "count = [sum(Y == 0), sum(Y == 1)]\n",
    "plt.grid(zorder=0)\n",
    "plt.bar([\"Benign\", \"Malignant\"], count, zorder=3)\n",
    "plt.title(\"Frequency of diagnostic in dataset\")\n",
    "plt.ylabel(\"Frequency\")\n",
    "plt.text(x=0, y=100, s=count[0], ha=\"center\", color=\"w\", fontsize=20)\n",
    "plt.text(x=1, y=100, s=count[1], ha=\"center\", color=\"w\", fontsize=20)\n",
    "plt.savefig(\"classes.png\")\n",
    "plt.show()"
   ]
  },
  {
   "cell_type": "code",
   "execution_count": 6,
   "metadata": {},
   "outputs": [
    {
     "data": {
      "image/png": "[encoded data removed]",
      "text/plain": [
       "<Figure size 432x288 with 9 Axes>"
      ]
     },
     "metadata": {
      "needs_background": "light"
     },
     "output_type": "display_data"
    }
   ],
   "source": [
    "# For different diagnosis visual comparisons\n",
    "# create two dataframes\n",
    "neg_dataf = dataset[Y == 0]\n",
    "pos_dataf = dataset[Y == 1]\n",
    "\n",
    "features = list(dataset.columns[1:-1])\n",
    "\n",
    "# Visualize all the features for positive and negative diagnoses\n",
    "fig = plt.figure()\n",
    "plt.suptitle(\"Features distribution by class\")\n",
    "\n",
    "for i, f in enumerate(features):\n",
    "    i += 1\n",
    "    ax = fig.add_subplot(3, 3, i)\n",
    "\n",
    "    # Plot corresponding histogram\n",
    "    ax.hist(neg_dataf[f], label=\"Benign\", stacked=True, alpha=0.5, color=\"b\")\n",
    "    ax.hist(\n",
    "        pos_dataf[f], label=\"Malignant\", stacked=True, alpha=0.5, color=\"r\")\n",
    "    ax.set_title(f)\n",
    "\n",
    "plt.tight_layout()\n",
    "plt.legend()\n",
    "plt.subplots_adjust(top=0.85)\n",
    "plt.savefig(\"features.png\")\n",
    "plt.show()"
   ]
  },
  {
   "cell_type": "markdown",
   "metadata": {},
   "source": [
    "## Phase 2 - Data preprocessing\n"
   ]
  },
  {
   "cell_type": "code",
   "execution_count": 7,
   "metadata": {
    "scrolled": true
   },
   "outputs": [],
   "source": [
    "X_neg = neg_dataf[features].values\n",
    "X_pos = pos_dataf[features].values\n",
    "Y_neg = neg_dataf['class'].values\n",
    "Y_pos = pos_dataf['class'].values"
   ]
  },
  {
   "cell_type": "markdown",
   "metadata": {},
   "source": [
    "### Split data into training, validate and test sets"
   ]
  },
  {
   "cell_type": "code",
   "execution_count": 8,
   "metadata": {},
   "outputs": [
    {
     "name": "stdout",
     "output_type": "stream",
     "text": [
      "409 137 137\n"
     ]
    }
   ],
   "source": [
    "# Split data into train, validation and test sets - 60% 20% 20%\n",
    "\n",
    "# Class 'Benign'\n",
    "X_train_neg, X_test_neg, y_train_neg, y_test_neg = ms.train_test_split(\n",
    "    X_neg, Y_neg, test_size=0.2, random_state=1)\n",
    "X_train_neg, X_val_neg, y_train_neg, y_val_neg = ms.train_test_split(\n",
    "    X_train_neg, y_train_neg, test_size=0.25, random_state=1)\n",
    "# Class 'Malignant'\n",
    "X_train_pos, X_test_pos, y_train_pos, y_test_pos = ms.train_test_split(\n",
    "    X_pos, Y_pos, test_size=0.2, random_state=1)\n",
    "X_train_pos, X_val_pos, y_train_pos, y_val_pos = ms.train_test_split(\n",
    "    X_train_pos, y_train_pos, test_size=0.25, random_state=1)\n",
    "\n",
    "# Merge data sets\n",
    "X_train = np.r_[X_train_neg, X_train_pos]\n",
    "X_val = np.r_[X_val_neg, X_val_pos]\n",
    "X_test = np.r_[X_test_neg, X_test_pos]\n",
    "y_train = np.r_[y_train_neg, y_train_pos]\n",
    "y_val = np.r_[y_val_neg, y_val_pos]\n",
    "y_test = np.r_[y_test_neg, y_test_pos]\n",
    "\n",
    "print(len(X_train), len(X_val), len(X_test))"
   ]
  },
  {
   "cell_type": "markdown",
   "metadata": {},
   "source": [
    "### Normalize data"
   ]
  },
  {
   "cell_type": "code",
   "execution_count": 9,
   "metadata": {
    "scrolled": false
   },
   "outputs": [
    {
     "name": "stderr",
     "output_type": "stream",
     "text": [
      "C:\\ProgramData\\Anaconda3\\lib\\site-packages\\sklearn\\utils\\validation.py:595: DataConversionWarning: Data with input dtype int64 was converted to float64 by StandardScaler.\n",
      "  warnings.warn(msg, DataConversionWarning)\n",
      "C:\\ProgramData\\Anaconda3\\lib\\site-packages\\sklearn\\utils\\validation.py:595: DataConversionWarning: Data with input dtype int64 was converted to float64 by StandardScaler.\n",
      "  warnings.warn(msg, DataConversionWarning)\n",
      "C:\\ProgramData\\Anaconda3\\lib\\site-packages\\sklearn\\utils\\validation.py:595: DataConversionWarning: Data with input dtype int64 was converted to float64 by StandardScaler.\n",
      "  warnings.warn(msg, DataConversionWarning)\n",
      "C:\\ProgramData\\Anaconda3\\lib\\site-packages\\sklearn\\utils\\validation.py:595: DataConversionWarning: Data with input dtype int64 was converted to float64 by StandardScaler.\n",
      "  warnings.warn(msg, DataConversionWarning)\n"
     ]
    }
   ],
   "source": [
    "scaler = StandardScaler()\n",
    "X_train = scaler.fit_transform(X_train)\n",
    "\n",
    "X_val = scaler.transform(X_val)\n",
    "X_test = scaler.transform(X_test)"
   ]
  },
  {
   "cell_type": "markdown",
   "metadata": {},
   "source": [
    "## Phase 3 - Model Selection"
   ]
  },
  {
   "cell_type": "code",
   "execution_count": 10,
   "metadata": {},
   "outputs": [],
   "source": [
    "sigmoid = lambda x: 1 / (1 + np.e**(-x))"
   ]
  },
  {
   "cell_type": "markdown",
   "metadata": {},
   "source": [
    "### Linear regression"
   ]
  },
  {
   "cell_type": "markdown",
   "metadata": {},
   "source": [
    "#### As Task 1"
   ]
  },
  {
   "cell_type": "code",
   "execution_count": 11,
   "metadata": {},
   "outputs": [],
   "source": [
    "J = lambda theta, x, y: 1 / (2 * len(y)) * (\n",
    "    x.dot(theta) - y).T.dot(x.dot(theta) - y)\n",
    "\n",
    "\n",
    "def update(theta, x, y, alpha):\n",
    "    for j in range(len(theta)):\n",
    "        theta[j] = theta[j] - alpha * np.mean((x.T.dot(theta) - y) * x[j, :])"
   ]
  },
  {
   "cell_type": "code",
   "execution_count": 12,
   "metadata": {},
   "outputs": [
    {
     "name": "stdout",
     "output_type": "stream",
     "text": [
      "Consumed training time: 0.328125\n",
      "Confusion matrix:\n",
      "[[88  1]\n",
      " [ 7 41]]\n"
     ]
    }
   ],
   "source": [
    "X_train_ = np.c_[np.ones((len(X_train), 1)), X_train]\n",
    "X_test_ = np.c_[np.ones((len(X_test), 1)), X_test]\n",
    "theta = np.zeros(len(features) + 1)\n",
    "alpha = 0.01\n",
    "\n",
    "tic = time.process_time()\n",
    "for n in range(1500):\n",
    "    update(theta, X_train_.T, y_train, alpha)\n",
    "toc = time.process_time()\n",
    "print('Consumed training time: {}'.format(toc - tic))\n",
    "\n",
    "# Get a prediction\n",
    "y_pred = X_test_.dot(theta)\n",
    "y_pred = (y_pred >= 0.5) * 1\n",
    "\n",
    "# Compute metrics\n",
    "linreg_matrix = confusion_matrix(y_test, y_pred)\n",
    "print(\"Confusion matrix:\")\n",
    "print(linreg_matrix)"
   ]
  },
  {
   "cell_type": "markdown",
   "metadata": {},
   "source": [
    "#### Scikit-learn version"
   ]
  },
  {
   "cell_type": "code",
   "execution_count": 13,
   "metadata": {},
   "outputs": [
    {
     "name": "stdout",
     "output_type": "stream",
     "text": [
      "Consumed training time: 0.0\n",
      "Confusion matrix:\n",
      "[[88  1]\n",
      " [ 7 41]]\n"
     ]
    }
   ],
   "source": [
    "tic = time.process_time()\n",
    "reg = LinearRegression().fit(X_train, y_train)\n",
    "toc = time.process_time()\n",
    "print('Consumed training time: {}'.format(toc - tic))\n",
    "\n",
    "# Get a prediction\n",
    "y_pred = reg.predict(X_test)\n",
    "y_pred = (y_pred >= 0.5) * 1\n",
    "\n",
    "# Compute metrics\n",
    "linreg_matrix_sk = confusion_matrix(y_test, y_pred)\n",
    "print(\"Confusion matrix:\")\n",
    "print(linreg_matrix_sk)"
   ]
  },
  {
   "cell_type": "markdown",
   "metadata": {},
   "source": [
    "### Logistic regression"
   ]
  },
  {
   "cell_type": "markdown",
   "metadata": {},
   "source": [
    "#### As Task 2"
   ]
  },
  {
   "cell_type": "code",
   "execution_count": 14,
   "metadata": {},
   "outputs": [],
   "source": [
    "J = lambda theta, x, y: -((np.log(sigmoid(x.dot(theta)))).T.dot(y) +\n",
    "                        (np.log(1 - sigmoid(x.dot(theta)))).T.dot(1 - y)) \\\n",
    "                        / len(y)\n",
    "\n",
    "dJ = lambda theta, x, y: (x.T.dot(sigmoid(x.dot(theta)) - y)) / len(y)\n",
    "\n",
    "Jreg = lambda theta, x, y, l: J(theta, x, y) + l / (2 * len(y)) * \\\n",
    "                                (np.square(theta[1:]).sum())\n",
    "\n",
    "dJreg = lambda theta, x, y, l: dJ(theta, x, y) + l * \\\n",
    "                                (np.hstack(([0], theta[1:])) / len(y))"
   ]
  },
  {
   "cell_type": "code",
   "execution_count": 15,
   "metadata": {},
   "outputs": [
    {
     "data": {
      "image/png": "[encoded data removed]",
      "text/plain": [
       "<Figure size 432x288 with 1 Axes>"
      ]
     },
     "metadata": {
      "needs_background": "light"
     },
     "output_type": "display_data"
    },
    {
     "name": "stdout",
     "output_type": "stream",
     "text": [
      "Best regularization term is 0.0\n",
      "Consumed training time: 0.03125\n",
      "Confusion matrix:\n",
      "[[87  2]\n",
      " [ 4 44]]\n"
     ]
    }
   ],
   "source": [
    "# Hyperparameter tuning\n",
    "X_train_ = np.c_[np.ones((len(X_train), 1)), X_train]\n",
    "X_val_ = np.c_[np.ones((len(X_val), 1)), X_val]\n",
    "theta = np.zeros(len(features) + 1)\n",
    "costs = []\n",
    "reg = np.arange(0, 5, 0.05)\n",
    "\n",
    "for l in reg:\n",
    "    result = opt.fmin_tnc(\n",
    "        func=Jreg, x0=theta, fprime=dJreg, args=(X_train_, y_train, l))\n",
    "    theta_opt = result[0]\n",
    "    costs.append(Jreg(theta_opt, X_val_, y_val, l))\n",
    "\n",
    "# Show costs\n",
    "plt.figure()\n",
    "plt.plot(reg, costs)\n",
    "plt.xlabel('Regularization term')\n",
    "plt.ylabel('Cost function $J(\\\\theta )$')\n",
    "plt.title('Logistic regression')\n",
    "plt.savefig('Logistic_regression.png')\n",
    "plt.show()\n",
    "\n",
    "# Model selection\n",
    "# Pick the model with minimum cross validation error\n",
    "best_reg = reg[np.argmin(costs)]\n",
    "print('Best regularization term is {}'.format(best_reg))\n",
    "\n",
    "tic = time.process_time()\n",
    "best_theta = opt.fmin_tnc(\n",
    "    func=Jreg, x0=theta, fprime=dJreg, args=(X_train_, y_train, best_reg))[0]\n",
    "toc = time.process_time()\n",
    "print('Consumed training time: {}'.format(toc - tic))\n",
    "\n",
    "# Get a prediction\n",
    "y_pred = sigmoid(np.c_[np.ones((len(X_test), 1)), X_test].dot(best_theta))\n",
    "y_pred = (y_pred >= 0.5) * 1\n",
    "\n",
    "# Compute metrics\n",
    "lr_matrix = confusion_matrix(y_test, y_pred)\n",
    "print(\"Confusion matrix:\")\n",
    "print(lr_matrix)"
   ]
  },
  {
   "cell_type": "markdown",
   "metadata": {},
   "source": [
    "#### Scikit-learn version"
   ]
  },
  {
   "cell_type": "code",
   "execution_count": 16,
   "metadata": {},
   "outputs": [
    {
     "data": {
      "image/png": "[encoded data removed]",
      "text/plain": [
       "<Figure size 432x288 with 1 Axes>"
      ]
     },
     "metadata": {
      "needs_background": "light"
     },
     "output_type": "display_data"
    },
    {
     "name": "stdout",
     "output_type": "stream",
     "text": [
      "Best regularization term is 0.35000000000000003\n",
      "Consumed training time: 0.0\n",
      "Confusion matrix:\n",
      "[[88  1]\n",
      " [ 4 44]]\n"
     ]
    }
   ],
   "source": [
    "# Hyperparameter tuning\n",
    "costs = []\n",
    "for l in (reg + 0.0000000000001):  # C must be positive\n",
    "    clf = LogisticRegression(random_state=1, solver='lbfgs', C=l)\n",
    "    clf.fit(X_train, y_train)\n",
    "    costs.append(clf.score(X_val, y_val))\n",
    "\n",
    "# Show scores\n",
    "plt.figure()\n",
    "plt.plot(reg, costs)\n",
    "plt.xlabel('Regularization term')\n",
    "plt.ylabel('Accuracy')\n",
    "plt.title('Logistic regression with scikit-learn')\n",
    "plt.savefig('Logistic_regression-sklearn.png')\n",
    "plt.show()\n",
    "\n",
    "# Model selection\n",
    "# Pick the model with maximum cross validation accuracy\n",
    "best_reg = reg[np.argmax(costs)]\n",
    "print('Best regularization term is {}'.format(best_reg))\n",
    "\n",
    "tic = time.process_time()\n",
    "clf = LogisticRegression(random_state=1, solver='lbfgs', C=best_reg)\n",
    "clf.fit(X_train, y_train)\n",
    "toc = time.process_time()\n",
    "print('Consumed training time: {}'.format(toc - tic))\n",
    "\n",
    "# Get a prediction\n",
    "y_pred = clf.predict(X_test)\n",
    "\n",
    "# Compute metrics\n",
    "lr_matrix_sk = confusion_matrix(y_test, y_pred)\n",
    "print(\"Confusion matrix:\")\n",
    "print(lr_matrix_sk)"
   ]
  },
  {
   "cell_type": "markdown",
   "metadata": {},
   "source": [
    "### Neural networks"
   ]
  },
  {
   "cell_type": "markdown",
   "metadata": {},
   "source": [
    "#### As Task 4"
   ]
  },
  {
   "cell_type": "code",
   "execution_count": 17,
   "metadata": {},
   "outputs": [],
   "source": [
    "def pesosAleatorios(L_in, L_out):\n",
    "    eps = 0.12  # it can be assigned by a formula\n",
    "    # dimension of the matrix is (L_out, 1 + L_in)\n",
    "    np.random.seed(1)\n",
    "    return np.random.uniform(low=-eps, high=eps, size=(L_out, 1 + L_in))\n",
    "\n",
    "\n",
    "def J(theta1, theta2, X, y):\n",
    "    m = X.shape[0]\n",
    "    h = forwardprop(theta1, theta2, X)[4]\n",
    "    return -1 * (1 / m) * np.sum(\n",
    "        (np.log(h.T) * (y) + np.log(1 - h).T * (1 - y)))\n",
    "\n",
    "\n",
    "def J_reg(theta1, theta2, X, y, reg):\n",
    "    m = X.shape[0]\n",
    "    return J(theta1, theta2, X, y) + (reg) * (np.sum(np.square(\n",
    "        theta1[:, 1:])) + np.sum(np.square(theta2[:, 1:]))) / (2 * m)\n",
    "\n",
    "\n",
    "def d_sigmoid(x):\n",
    "    return sigmoid(x) * (1 - sigmoid(x))\n",
    "\n",
    "\n",
    "def forwardprop(theta1, theta2, X):\n",
    "    m = X.shape[0]\n",
    "    # Input layer\n",
    "    a1 = np.c_[np.ones((m, 1)), X]\n",
    "    # Hidden layer\n",
    "    z2 = theta1.dot(a1.T)\n",
    "    a2 = np.c_[np.ones((m, 1)), sigmoid(z2.T)]\n",
    "    # Output layer\n",
    "    z3 = theta2.dot(a2.T)\n",
    "    a3 = sigmoid(z3)\n",
    "    return (a1, z2, a2, z3, a3)\n",
    "\n",
    "\n",
    "def backprop(params_rn, num_entradas, num_ocultas, num_etiquetas, X, y, reg=0):\n",
    "    \"\"\"\n",
    "    backprop devuelve el coste y el gradiente de una red neuronal de dos capas.\n",
    "    \"\"\"\n",
    "    theta1 = params_rn[:(num_ocultas * (num_entradas + 1))].reshape(\n",
    "        num_ocultas, (num_entradas + 1))\n",
    "    theta2 = params_rn[(num_ocultas * (num_entradas + 1)):].reshape(\n",
    "        num_etiquetas, (num_ocultas + 1))\n",
    "\n",
    "    m = X.shape[0]\n",
    "    y_matrix = pd.get_dummies(np.array(y).ravel()).values\n",
    "\n",
    "    # Cost\n",
    "    a1, z2, a2, z3, a3 = forwardprop(theta1, theta2, X)\n",
    "\n",
    "    J = J_reg(theta1, theta2, X, y_matrix, reg)\n",
    "\n",
    "    # Gradients\n",
    "    d3 = a3.T - y_matrix\n",
    "    d2 = theta2[:, 1:].T.dot(d3.T) * d_sigmoid(z2)\n",
    "\n",
    "    delta1 = d2.dot(a1)\n",
    "    delta2 = d3.T.dot(a2)\n",
    "\n",
    "    theta1_ = np.c_[np.zeros((theta1.shape[0], 1)), theta1[:, 1:]]\n",
    "    theta2_ = np.c_[np.zeros((theta2.shape[0], 1)), theta2[:, 1:]]\n",
    "\n",
    "    theta1_grad = delta1 / m + (theta1_ * reg) / m\n",
    "    theta2_grad = delta2 / m + (theta2_ * reg) / m\n",
    "\n",
    "    return (J, np.r_[theta1_grad.ravel(), theta2_grad.ravel()])"
   ]
  },
  {
   "cell_type": "code",
   "execution_count": 18,
   "metadata": {
    "scrolled": true
   },
   "outputs": [
    {
     "data": {
      "image/png": "[encoded data removed]",
      "text/plain": [
       "<Figure size 432x288 with 1 Axes>"
      ]
     },
     "metadata": {
      "needs_background": "light"
     },
     "output_type": "display_data"
    },
    {
     "name": "stdout",
     "output_type": "stream",
     "text": [
      "Best regularization term is 0.0\n",
      "Best number of hidden neurons is 7\n",
      "Consumed training time: 0.1875\n",
      "Confusion matrix:\n",
      "[[87  2]\n",
      " [ 2 46]]\n"
     ]
    }
   ],
   "source": [
    "num_in, num_out = X_train.shape[1], 2\n",
    "\n",
    "# Hyperparameter tuning\n",
    "hidden = range(2, 15)\n",
    "reg = np.arange(0, 2, 0.05)\n",
    "costs = np.empty((len(hidden), len(reg)))\n",
    "\n",
    "for i, h in enumerate(hidden):\n",
    "    for j, l in enumerate(reg):\n",
    "        t1 = pesosAleatorios(num_in, h)\n",
    "        t2 = pesosAleatorios(h, num_out)\n",
    "        params = np.r_[t1.ravel(), t2.ravel()]\n",
    "\n",
    "        fmin = opt.minimize(\n",
    "            fun=backprop,\n",
    "            x0=params,\n",
    "            args=(num_in, h, num_out, X_train, y_train, l),\n",
    "            method='TNC',\n",
    "            jac=True,\n",
    "            options={'maxiter': 70})\n",
    "        # Network Trained!\n",
    "        Theta1 = fmin.x[:(h * (num_in + 1))].reshape(h, (num_in + 1))\n",
    "        Theta2 = fmin.x[(h * (num_in + 1)):].reshape(num_out, (h + 1))\n",
    "        costs[i, j] = J_reg(Theta1, Theta2, X_val,\n",
    "                            pd.get_dummies(y_val.ravel()).values, l)\n",
    "\n",
    "# Show costs\n",
    "plt.figure()\n",
    "for i, h in enumerate(hidden):\n",
    "    plt.plot(reg, costs[i], label=str(h) + ' hidden neurons')\n",
    "plt.xlabel('Regularization term')\n",
    "plt.ylabel('Cost function $J(\\\\theta)$')\n",
    "plt.legend()\n",
    "plt.title('Neural networks')\n",
    "plt.savefig('NN.png')\n",
    "plt.show()\n",
    "\n",
    "# Model selection\n",
    "# Pick the model with minimum cross validation error\n",
    "n = len(reg)\n",
    "best_hidden = hidden[costs.argmin() // n]\n",
    "best_reg = reg[costs.argmin() % n]\n",
    "print('Best regularization term is {}'.format(best_reg))\n",
    "print('Best number of hidden neurons is {}'.format(best_hidden))\n",
    "\n",
    "t1 = pesosAleatorios(num_in, best_hidden)\n",
    "t2 = pesosAleatorios(best_hidden, num_out)\n",
    "params = np.r_[t1.ravel(), t2.ravel()]\n",
    "tic = time.process_time()\n",
    "fmin = opt.minimize(\n",
    "    fun=backprop,\n",
    "    x0=params,\n",
    "    args=(num_in, best_hidden, num_out, X_train, y_train, best_reg),\n",
    "    method='TNC',\n",
    "    jac=True,\n",
    "    options={'maxiter': 70})\n",
    "toc = time.process_time()\n",
    "print('Consumed training time: {}'.format(toc - tic))\n",
    "\n",
    "# Get a prediction\n",
    "Theta1 = fmin.x[:(best_hidden * (num_in + 1))].reshape(best_hidden,\n",
    "                                                       (num_in + 1))\n",
    "Theta2 = fmin.x[(best_hidden * (num_in + 1)):].reshape(num_out,\n",
    "                                                       (best_hidden + 1))\n",
    "y_pred = forwardprop(Theta1, Theta2, X_test)[4]\n",
    "y_pred = np.array(np.argmax(y_pred, axis=0))\n",
    "\n",
    "# Compute metrics\n",
    "nn_matrix = confusion_matrix(y_test, y_pred)\n",
    "print(\"Confusion matrix:\")\n",
    "print(nn_matrix)"
   ]
  },
  {
   "cell_type": "markdown",
   "metadata": {},
   "source": [
    "#### Scikit-learn version"
   ]
  },
  {
   "cell_type": "code",
   "execution_count": 19,
   "metadata": {},
   "outputs": [
    {
     "data": {
      "image/png": "[encoded data removed]",
      "text/plain": [
       "<Figure size 432x288 with 1 Axes>"
      ]
     },
     "metadata": {
      "needs_background": "light"
     },
     "output_type": "display_data"
    },
    {
     "name": "stdout",
     "output_type": "stream",
     "text": [
      "Best regularization term is 1.1\n",
      "Best number of hidden neurons is 2\n",
      "Consumed training time: 0.03125\n",
      "Confusion matrix:\n",
      "[[87  2]\n",
      " [ 4 44]]\n"
     ]
    }
   ],
   "source": [
    "# Hyperparameter tuning\n",
    "costs = np.empty((len(hidden), len(reg)))\n",
    "for i, h in enumerate(hidden):\n",
    "    for j, l in enumerate(reg):\n",
    "        clf = MLPClassifier(\n",
    "            solver='lbfgs',\n",
    "            activation='logistic',\n",
    "            alpha=l,\n",
    "            hidden_layer_sizes=(h),\n",
    "            random_state=1)\n",
    "        clf.fit(X_train, y_train)\n",
    "        costs[i, j] = clf.score(X_val, y_val)\n",
    "\n",
    "# Show scores\n",
    "plt.figure()\n",
    "for i, h in enumerate(hidden):\n",
    "    plt.plot(reg, costs[i], label=str(h) + ' hidden neurons')\n",
    "plt.xlabel('Regularization term')\n",
    "plt.ylabel('Accuracy')\n",
    "plt.legend()\n",
    "plt.title('Neural networks with scikit-learn')\n",
    "plt.savefig('NN-sklearn.png')\n",
    "plt.show()\n",
    "\n",
    "# Model selection\n",
    "# Pick the model with maximum cross validation accuracy\n",
    "n = len(reg)\n",
    "best_hidden = hidden[costs.argmax() // n]\n",
    "best_reg = reg[costs.argmax() % n]\n",
    "print('Best regularization term is {}'.format(best_reg))\n",
    "print('Best number of hidden neurons is {}'.format(best_hidden))\n",
    "\n",
    "tic = time.process_time()\n",
    "clf = MLPClassifier(\n",
    "    solver='lbfgs',\n",
    "    activation='logistic',\n",
    "    alpha=best_reg,\n",
    "    hidden_layer_sizes=(best_hidden),\n",
    "    random_state=1)\n",
    "clf.fit(X_train, y_train)\n",
    "toc = time.process_time()\n",
    "print('Consumed training time: {}'.format(toc - tic))\n",
    "\n",
    "# Get a prediction\n",
    "y_pred = clf.predict(X_test)\n",
    "\n",
    "# Compute metrics\n",
    "nn_matrix_sk = confusion_matrix(y_test, y_pred)\n",
    "print(\"Confusion matrix:\")\n",
    "print(nn_matrix_sk)"
   ]
  },
  {
   "cell_type": "markdown",
   "metadata": {},
   "source": [
    "### Support vector machines"
   ]
  },
  {
   "cell_type": "markdown",
   "metadata": {},
   "source": [
    "#### Linear kernel"
   ]
  },
  {
   "cell_type": "code",
   "execution_count": 20,
   "metadata": {},
   "outputs": [
    {
     "data": {
      "image/png": "[encoded data removed]",
      "text/plain": [
       "<Figure size 432x288 with 1 Axes>"
      ]
     },
     "metadata": {
      "needs_background": "light"
     },
     "output_type": "display_data"
    },
    {
     "name": "stdout",
     "output_type": "stream",
     "text": [
      "Best penalty parameter is 0.01\n",
      "Consumed training time: 0.0\n",
      "Confusion matrix:\n",
      "[[88  1]\n",
      " [ 3 45]]\n"
     ]
    }
   ],
   "source": [
    "# Hyperparameter tuning\n",
    "C = [0.01, 0.03, 0.1, 0.3, 1, 3, 10, 30]\n",
    "costs = np.empty(len(C))\n",
    "for i, c in enumerate(C):\n",
    "    svm = SVC(kernel='linear', C=c)\n",
    "    svm.fit(X_train, y_train)\n",
    "    costs[i] = svm.score(X_val, y_val)\n",
    "\n",
    "# Show scores\n",
    "plt.figure()\n",
    "plt.plot(C, costs)\n",
    "plt.xlabel('Penalty parameter $C$')\n",
    "plt.ylabel('Accuracy')\n",
    "plt.title('Support vector machines - Linear kernel')\n",
    "plt.savefig('SVM_linear.png')\n",
    "plt.show()\n",
    "\n",
    "# Model selection\n",
    "# Pick the model with maximum cross validation accuracy\n",
    "best_c = C[costs.argmax()]\n",
    "print('Best penalty parameter is {}'.format(best_c))\n",
    "\n",
    "tic = time.process_time()\n",
    "svm = SVC(kernel='linear', C=best_c)\n",
    "svm.fit(X_train, y_train)\n",
    "toc = time.process_time()\n",
    "print('Consumed training time: {}'.format(toc - tic))\n",
    "\n",
    "# Get a prediction\n",
    "y_pred = svm.predict(X_test)\n",
    "\n",
    "# Compute metrics\n",
    "svm_linear_matrix = confusion_matrix(y_test, y_pred)\n",
    "print(\"Confusion matrix:\")\n",
    "print(svm_linear_matrix)"
   ]
  },
  {
   "cell_type": "markdown",
   "metadata": {},
   "source": [
    "#### Gaussian kernel"
   ]
  },
  {
   "cell_type": "code",
   "execution_count": 21,
   "metadata": {},
   "outputs": [
    {
     "data": {
      "image/png": "[encoded data removed]",
      "text/plain": [
       "<Figure size 432x288 with 1 Axes>"
      ]
     },
     "metadata": {
      "needs_background": "light"
     },
     "output_type": "display_data"
    },
    {
     "name": "stdout",
     "output_type": "stream",
     "text": [
      "Best penalty parameter is 0.1\n",
      "Best sigma for kernel coefficient is 3\n",
      "Consumed training time: 0.0\n",
      "Confusion matrix:\n",
      "[[87  2]\n",
      " [ 3 45]]\n"
     ]
    }
   ],
   "source": [
    "# Hyperparameter tuning\n",
    "C = [0.01, 0.03, 0.1, 0.3, 1, 3, 10, 30]\n",
    "sigma = [0.01, 0.03, 0.1, 0.3, 1, 3, 10, 30]\n",
    "costs = np.empty((len(C), len(sigma)))\n",
    "for i, c in enumerate(C):\n",
    "    for j, s in enumerate(sigma):\n",
    "        svm = SVC(kernel='rbf', C=c, gamma=1 / (2 * s**2))\n",
    "        svm.fit(X_train, y_train)\n",
    "        costs[i, j] = svm.score(X_val, y_val)\n",
    "\n",
    "# Show scores\n",
    "plt.figure()\n",
    "for i, c in enumerate(C):\n",
    "    plt.plot(sigma, costs[i], label='C = ' + str(c))\n",
    "plt.xlabel('$\\sigma$')\n",
    "plt.ylabel('Accuracy')\n",
    "plt.legend()\n",
    "plt.title('Support vector machines - Gaussian kernel')\n",
    "plt.savefig('SVM_RBF.png')\n",
    "plt.show()\n",
    "\n",
    "# Model selection\n",
    "# Pick the model with maximum cross validation accuracy\n",
    "best_c = C[costs.argmax() // len(sigma)]\n",
    "best_sigma = sigma[costs.argmax() % len(sigma)]\n",
    "print('Best penalty parameter is {}'.format(best_c))\n",
    "print('Best sigma for kernel coefficient is {}'.format(best_sigma))\n",
    "\n",
    "tic = time.process_time()\n",
    "svm = SVC(kernel='rbf', C=best_c, gamma=1 / (2 * (best_sigma)**2))\n",
    "svm.fit(X_train, y_train)\n",
    "toc = time.process_time()\n",
    "print('Consumed training time: {}'.format(toc - tic))\n",
    "\n",
    "# Get a prediction\n",
    "y_pred = svm.predict(X_test)\n",
    "\n",
    "# Compute metrics\n",
    "svm_rbf_matrix = confusion_matrix(y_test, y_pred)\n",
    "print(\"Confusion matrix:\")\n",
    "print(svm_rbf_matrix)"
   ]
  },
  {
   "cell_type": "markdown",
   "metadata": {},
   "source": [
    "### K-means"
   ]
  },
  {
   "cell_type": "code",
   "execution_count": 22,
   "metadata": {},
   "outputs": [
    {
     "name": "stdout",
     "output_type": "stream",
     "text": [
      "Consumed training time: 0.03125\n",
      "Confusion matrix:\n",
      "[[88  1]\n",
      " [ 6 42]]\n"
     ]
    }
   ],
   "source": [
    "tic = time.process_time()\n",
    "kmeans = KMeans(n_clusters=2, random_state=1).fit(X_train)\n",
    "toc = time.process_time()\n",
    "print('Consumed training time: {}'.format(toc - tic))\n",
    "\n",
    "# Get a prediction\n",
    "y_pred = kmeans.predict(X_test)\n",
    "\n",
    "# Compute metrics\n",
    "kmeans_matrix = confusion_matrix(y_test, y_pred)\n",
    "print(\"Confusion matrix:\")\n",
    "print(kmeans_matrix)"
   ]
  },
  {
   "cell_type": "markdown",
   "metadata": {},
   "source": [
    "## Phase 4 - Scores"
   ]
  },
  {
   "cell_type": "code",
   "execution_count": 23,
   "metadata": {},
   "outputs": [],
   "source": [
    "accuracy = lambda M: (M[1, 1] + M[0, 0]) / (np.sum(M))\n",
    "\n",
    "precision = lambda M: M[1, 1] / (M[1, 1] + M[0, 1])\n",
    "\n",
    "recall = lambda M: M[1, 1] / (M[1, 1] + M[1, 0])\n",
    "\n",
    "average = lambda P, R: (P + R) / 2\n",
    "\n",
    "F1_score = lambda P, R: 2 * P * R / (P + R)"
   ]
  },
  {
   "cell_type": "code",
   "execution_count": 24,
   "metadata": {
    "scrolled": true
   },
   "outputs": [
    {
     "data": {
      "text/html": [
       "<div>\n",
       "<style scoped>\n",
       "    .dataframe tbody tr th:only-of-type {\n",
       "        vertical-align: middle;\n",
       "    }\n",
       "\n",
       "    .dataframe tbody tr th {\n",
       "        vertical-align: top;\n",
       "    }\n",
       "\n",
       "    .dataframe thead th {\n",
       "        text-align: right;\n",
       "    }\n",
       "</style>\n",
       "<table border=\"1\" class=\"dataframe\">\n",
       "  <thead>\n",
       "    <tr style=\"text-align: right;\">\n",
       "      <th></th>\n",
       "      <th>Accuracy</th>\n",
       "      <th>Precision</th>\n",
       "      <th>Recall</th>\n",
       "      <th>Average</th>\n",
       "      <th>$F_{1}$ score</th>\n",
       "    </tr>\n",
       "  </thead>\n",
       "  <tbody>\n",
       "    <tr>\n",
       "      <th>Linear regression</th>\n",
       "      <td>0.941606</td>\n",
       "      <td>0.976190</td>\n",
       "      <td>0.854167</td>\n",
       "      <td>0.915179</td>\n",
       "      <td>0.911111</td>\n",
       "    </tr>\n",
       "    <tr>\n",
       "      <th>Logistic regression</th>\n",
       "      <td>0.956204</td>\n",
       "      <td>0.956522</td>\n",
       "      <td>0.916667</td>\n",
       "      <td>0.936594</td>\n",
       "      <td>0.936170</td>\n",
       "    </tr>\n",
       "    <tr>\n",
       "      <th>Logistic R. (scikit-learn)</th>\n",
       "      <td>0.963504</td>\n",
       "      <td>0.977778</td>\n",
       "      <td>0.916667</td>\n",
       "      <td>0.947222</td>\n",
       "      <td>0.946237</td>\n",
       "    </tr>\n",
       "    <tr>\n",
       "      <th>Neural network</th>\n",
       "      <td>0.970803</td>\n",
       "      <td>0.958333</td>\n",
       "      <td>0.958333</td>\n",
       "      <td>0.958333</td>\n",
       "      <td>0.958333</td>\n",
       "    </tr>\n",
       "    <tr>\n",
       "      <th>NN (scikit-learn)</th>\n",
       "      <td>0.956204</td>\n",
       "      <td>0.956522</td>\n",
       "      <td>0.916667</td>\n",
       "      <td>0.936594</td>\n",
       "      <td>0.936170</td>\n",
       "    </tr>\n",
       "    <tr>\n",
       "      <th>Linear SVM</th>\n",
       "      <td>0.970803</td>\n",
       "      <td>0.978261</td>\n",
       "      <td>0.937500</td>\n",
       "      <td>0.957880</td>\n",
       "      <td>0.957447</td>\n",
       "    </tr>\n",
       "    <tr>\n",
       "      <th>RBF SVM</th>\n",
       "      <td>0.963504</td>\n",
       "      <td>0.957447</td>\n",
       "      <td>0.937500</td>\n",
       "      <td>0.947473</td>\n",
       "      <td>0.947368</td>\n",
       "    </tr>\n",
       "    <tr>\n",
       "      <th>K-means</th>\n",
       "      <td>0.948905</td>\n",
       "      <td>0.976744</td>\n",
       "      <td>0.875000</td>\n",
       "      <td>0.925872</td>\n",
       "      <td>0.923077</td>\n",
       "    </tr>\n",
       "  </tbody>\n",
       "</table>\n",
       "</div>"
      ],
      "text/plain": [
       "                            Accuracy  Precision    Recall   Average  \\\n",
       "Linear regression           0.941606   0.976190  0.854167  0.915179   \n",
       "Logistic regression         0.956204   0.956522  0.916667  0.936594   \n",
       "Logistic R. (scikit-learn)  0.963504   0.977778  0.916667  0.947222   \n",
       "Neural network              0.970803   0.958333  0.958333  0.958333   \n",
       "NN (scikit-learn)           0.956204   0.956522  0.916667  0.936594   \n",
       "Linear SVM                  0.970803   0.978261  0.937500  0.957880   \n",
       "RBF SVM                     0.963504   0.957447  0.937500  0.947473   \n",
       "K-means                     0.948905   0.976744  0.875000  0.925872   \n",
       "\n",
       "                            $F_{1}$ score  \n",
       "Linear regression                0.911111  \n",
       "Logistic regression              0.936170  \n",
       "Logistic R. (scikit-learn)       0.946237  \n",
       "Neural network                   0.958333  \n",
       "NN (scikit-learn)                0.936170  \n",
       "Linear SVM                       0.957447  \n",
       "RBF SVM                          0.947368  \n",
       "K-means                          0.923077  "
      ]
     },
     "metadata": {},
     "output_type": "display_data"
    }
   ],
   "source": [
    "scores = np.empty((8, 5))\n",
    "matrices = [\n",
    "    linreg_matrix, lr_matrix, lr_matrix_sk, nn_matrix, nn_matrix_sk,\n",
    "    svm_linear_matrix, svm_rbf_matrix, kmeans_matrix\n",
    "]\n",
    "\n",
    "for i, m in enumerate(matrices):\n",
    "    scores[i, 0] = accuracy(m)\n",
    "    scores[i, 1] = precision(m)\n",
    "    scores[i, 2] = recall(m)\n",
    "    scores[i, 3] = average(scores[i, 1], scores[i, 2])\n",
    "    scores[i, 4] = F1_score(scores[i, 1], scores[i, 2])\n",
    "\n",
    "scores = pd.DataFrame(scores)\n",
    "scores.columns = [\n",
    "    'Accuracy', 'Precision', 'Recall', 'Average', '$F_{1}$ score'\n",
    "]\n",
    "scores.index = [\n",
    "    'Linear regression', 'Logistic regression', 'Logistic R. (scikit-learn)',\n",
    "    'Neural network', 'NN (scikit-learn)', 'Linear SVM', 'RBF SVM', 'K-means'\n",
    "]\n",
    "display(scores)"
   ]
  }
 ],
 "metadata": {
  "kernelspec": {
   "display_name": "Python 3",
   "language": "python",
   "name": "python3"
  },
  "language_info": {
   "codemirror_mode": {
    "name": "ipython",
    "version": 3
   },
   "file_extension": ".py",
   "mimetype": "text/x-python",
   "name": "python",
   "nbconvert_exporter": "python",
   "pygments_lexer": "ipython3",
   "version": "3.7.1"
  }
 },
 "nbformat": 4,
 "nbformat_minor": 2
}
